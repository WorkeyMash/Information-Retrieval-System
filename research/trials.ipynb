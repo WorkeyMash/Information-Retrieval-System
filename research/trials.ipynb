{
 "cells": [
  {
   "cell_type": "markdown",
   "id": "143cd1be",
   "metadata": {},
   "source": []
  },
  {
   "cell_type": "code",
   "execution_count": null,
   "id": "e9151c72",
   "metadata": {},
   "outputs": [],
   "source": [
    "streamlit==1.38.0\n",
    "PyPDF2==3.0.1\n",
    "langchain==0.3.2\n",
    "langchain-community==0.3.1\n",
    "faiss-cpu==1.9.0\n",
    "python-dotenv==1.0.1\n",
    "requests==2.32.3\n",
    "huggingface_hub==0.25.1\n",
    "sentence-transformers==3.2.0\n",
    "\n",
    "\n",
    "python-dotenv\n",
    "langchain\n",
    "PyPDF2\n",
    "faiss-cpu\n",
    "streamlit\n",
    "huggingface_hub==0.25.1\n",
    "langchain-community\n",
    "requests==2.32.3\n",
    "sentence-transformers==3.2.0\n",
    "-e ."
   ]
  }
 ],
 "metadata": {
  "kernelspec": {
   "display_name": "llmapp",
   "language": "python",
   "name": "python3"
  },
  "language_info": {
   "codemirror_mode": {
    "name": "ipython",
    "version": 3
   },
   "file_extension": ".py",
   "mimetype": "text/x-python",
   "name": "python",
   "nbconvert_exporter": "python",
   "pygments_lexer": "ipython3",
   "version": "3.8.20"
  }
 },
 "nbformat": 4,
 "nbformat_minor": 5
}
